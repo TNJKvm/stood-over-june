{
 "cells": [
  {
   "cell_type": "markdown",
   "source": [
    "### This notebook is used to generate a plot like figure_2 in the RHO-Loss Paper."
   ],
   "metadata": {
    "collapsed": false
   }
  },
  {
   "cell_type": "markdown",
   "source": [
    "Definition of all needed variables and imports:"
   ],
   "metadata": {
    "collapsed": false
   }
  },
  {
   "cell_type": "code",
   "execution_count": 1,
   "outputs": [],
   "source": [
    "import matplotlib\n",
    "matplotlib.use('Qt5Agg')\n",
    "import matplotlib.pyplot as plt\n",
    "import pickle\n",
    "import os\n",
    "import pprint\n",
    "pp = pprint.PrettyPrinter(depth=3)\n",
    "import numpy as np\n",
    "from statistics import mean\n",
    "\n",
    "cifar10_results_x = []\n",
    "cifar10_results_y = []\n",
    "cifar100_results_x = []\n",
    "cifar100_results_y = []\n",
    "cinic10_results_x = []\n",
    "cinic10_results_y = []"
   ],
   "metadata": {
    "collapsed": false
   }
  },
  {
   "cell_type": "markdown",
   "source": [
    "Get baselines:"
   ],
   "metadata": {
    "collapsed": false
   }
  },
  {
   "cell_type": "code",
   "execution_count": 2,
   "outputs": [
    {
     "name": "stdout",
     "output_type": "stream",
     "text": [
      "{'CIFAR10': {42: (78.45999908447266, 96),\n",
      "             47: (78.69000244140625, 97),\n",
      "             74: (78.19000244140625, 87)},\n",
      " 'CIFAR100': {42: (43.83000183105469, 88),\n",
      "              47: (44.380001068115234, 70),\n",
      "              74: (43.52000045776367, 94)},\n",
      " 'CINIC10': {42: (72.38555908203125, 63),\n",
      "             47: (71.87333679199219, 65),\n",
      "             74: (72.06999969482422, 52)}}\n"
     ]
    }
   ],
   "source": [
    "baseline = {\n",
    "    'CIFAR10' : {},\n",
    "    'CINIC10' : {},\n",
    "    'CIFAR100': {}\n",
    "}\n",
    "\n",
    "baseline_path = '/home/alsch/Desktop/ML Reproducibillity Chellange/figure_2/0_baseline/'\n",
    "\n",
    "for file in os.listdir(baseline_path):\n",
    "    if file.endswith('.pickle'):\n",
    "        with open(os.path.join(baseline_path, file), 'rb') as f:\n",
    "            results = pickle.load(f)\n",
    "            for i in range(len(results['seed'])):\n",
    "                seed = results['seed'][i]\n",
    "                best = max(results['result'][i]['val_acc'][:100])\n",
    "                epoch = results['result'][i]['val_acc'][:100].index(best)\n",
    "                baseline[file.split(sep='_')[0].upper()][seed] = (best, epoch)\n",
    "\n",
    "\n",
    "pp.pprint(baseline)"
   ],
   "metadata": {
    "collapsed": false
   }
  },
  {
   "cell_type": "markdown",
   "source": [
    "Get speedups for big model"
   ],
   "metadata": {
    "collapsed": false
   }
  },
  {
   "cell_type": "code",
   "execution_count": 3,
   "outputs": [
    {
     "name": "stdout",
     "output_type": "stream",
     "text": [
      "46.02000045776367\n",
      "80.20999908447266\n",
      "75.83777618408203\n",
      "73.6500015258789\n",
      "45.95000076293945\n",
      "80.55999755859375\n",
      "73.92555236816406\n",
      "45.220001220703125\n",
      "79.83000183105469\n",
      "[4.6]\n",
      "[3.59]\n",
      "[2.98]\n"
     ]
    }
   ],
   "source": [
    "big_model_path = '/home/alsch/Desktop/ML Reproducibillity Chellange/figure_2/1_big_model/target'\n",
    "\n",
    "big_model = {\n",
    "    'CIFAR10' : [],\n",
    "    'CINIC10' : [],\n",
    "    'CIFAR100': []\n",
    "}\n",
    "\n",
    "for file in os.listdir(big_model_path):\n",
    "    if file.endswith('.pickle'):\n",
    "        seed = int(file.split('_')[-1].split('.')[0])\n",
    "        dataset = file.split('_')[1]\n",
    "        with open(os.path.join(big_model_path, file), 'rb') as f:\n",
    "            results = pickle.load(f)\n",
    "            acc = np.array(results['accuracy'])\n",
    "            speedup = baseline[dataset][seed][1] / np.argmax(acc > baseline[dataset][seed][0])\n",
    "            speedup = round(speedup, 2)\n",
    "            big_model[dataset].append(speedup)\n",
    "\n",
    "y = 4 - (1/3)\n",
    "for dataset in big_model.keys():\n",
    "    globals()[dataset.lower()+'_results_x'].append(round(mean(big_model[dataset]), 2))\n",
    "    globals()[dataset.lower()+'_results_y'].append(y)\n",
    "    y += 1/3"
   ],
   "metadata": {
    "collapsed": false
   }
  },
  {
   "cell_type": "markdown",
   "source": [
    "Get speedups for small model"
   ],
   "metadata": {
    "collapsed": false
   }
  },
  {
   "cell_type": "code",
   "execution_count": 4,
   "outputs": [
    {
     "name": "stdout",
     "output_type": "stream",
     "text": [
      "CIFAR10\n",
      "[4.6, 2.44]\n",
      "CINIC10\n",
      "[3.59, 2.05]\n",
      "CIFAR100\n",
      "[2.98, 1.3]\n"
     ]
    },
    {
     "name": "stderr",
     "output_type": "stream",
     "text": [
      "/tmp/ipykernel_25920/1106134241.py:16: RuntimeWarning: divide by zero encountered in long_scalars\n",
      "  speedup = baseline[dataset][seed][1] / np.argmax(acc > baseline[dataset][seed][0])\n"
     ]
    }
   ],
   "source": [
    "small_model_path = '/home/alsch/Desktop/ML Reproducibillity Chellange/figure_2/2_small_model/target'\n",
    "\n",
    "small_model = {\n",
    "    'CIFAR10' : [],\n",
    "    'CINIC10' : [],\n",
    "    'CIFAR100': []\n",
    "}\n",
    "\n",
    "for file in os.listdir(small_model_path):\n",
    "    if file.endswith('.pickle'):\n",
    "        seed = int(file.split('_')[-1].split('.')[0])\n",
    "        dataset = file.split('_')[1]\n",
    "        with open(os.path.join(small_model_path, file), 'rb') as f:\n",
    "            results = pickle.load(f)\n",
    "            acc = np.array(results['accuracy'])\n",
    "            speedup = baseline[dataset][seed][1] / np.argmax(acc > baseline[dataset][seed][0])\n",
    "            if speedup != np.inf:\n",
    "                speedup = round(speedup, 2)\n",
    "                small_model[dataset].append(speedup)\n",
    "\n",
    "y = 3 - (1/3)\n",
    "for dataset in small_model.keys():\n",
    "    print(dataset)\n",
    "    globals()[dataset.lower()+'_results_x'].append(round(mean(small_model[dataset]), 2))\n",
    "    globals()[dataset.lower()+'_results_y'].append(y)\n",
    "    y += 1/3"
   ],
   "metadata": {
    "collapsed": false
   }
  },
  {
   "cell_type": "markdown",
   "source": [
    "Get speedups for no holdout data"
   ],
   "metadata": {
    "collapsed": false
   }
  },
  {
   "cell_type": "code",
   "execution_count": 5,
   "outputs": [
    {
     "name": "stdout",
     "output_type": "stream",
     "text": [
      "{'CIFAR10': [2.07], 'CINIC10': [1.7, 2.1], 'CIFAR100': [1.76, 2.14]}\n",
      "CIFAR10\n",
      "[4.6, 2.44, 2.07]\n",
      "CINIC10\n",
      "[3.59, 2.05, 1.9]\n",
      "CIFAR100\n",
      "[2.98, 1.3, 1.95]\n"
     ]
    },
    {
     "name": "stderr",
     "output_type": "stream",
     "text": [
      "/tmp/ipykernel_25920/21492539.py:16: RuntimeWarning: divide by zero encountered in long_scalars\n",
      "  speedup = baseline[dataset][seed][1] / np.argmax(acc > baseline[dataset][seed][0])\n"
     ]
    }
   ],
   "source": [
    "no_holdout_path = '/home/alsch/Desktop/ML Reproducibillity Chellange/figure_2/3_no_holdout/target'\n",
    "\n",
    "no_holdout = {\n",
    "    'CIFAR10' : [],\n",
    "    'CINIC10' : [],\n",
    "    'CIFAR100': []\n",
    "}\n",
    "\n",
    "for file in os.listdir(no_holdout_path):\n",
    "    if file.endswith('.pickle'):\n",
    "        seed = int(file.split('_')[-1].split('.')[0])\n",
    "        dataset = file.split('_')[1]\n",
    "        with open(os.path.join(no_holdout_path, file), 'rb') as f:\n",
    "            results = pickle.load(f)\n",
    "            acc = np.array(results['accuracy'])\n",
    "            speedup = baseline[dataset][seed][1] / np.argmax(acc > baseline[dataset][seed][0])\n",
    "            if speedup != np.inf:\n",
    "                speedup = round(speedup, 2)\n",
    "                no_holdout[dataset].append(speedup)\n",
    "\n",
    "print(no_holdout)\n",
    "y = 2 - (1/3)\n",
    "for dataset in no_holdout.keys():\n",
    "    globals()[dataset.lower()+'_results_x'].append(round(mean(no_holdout[dataset]), 2))\n",
    "    globals()[dataset.lower()+'_results_y'].append(y)\n",
    "    y += 1/3"
   ],
   "metadata": {
    "collapsed": false
   }
  },
  {
   "cell_type": "markdown",
   "source": [
    "Get speedups for architecture transfer"
   ],
   "metadata": {
    "collapsed": false
   }
  },
  {
   "cell_type": "code",
   "execution_count": 6,
   "outputs": [
    {
     "name": "stderr",
     "output_type": "stream",
     "text": [
      "/tmp/ipykernel_25920/232864216.py:38: RuntimeWarning: divide by zero encountered in long_scalars\n",
      "  arch_results[dataset][model].append(np.argmax(base_acc) / np.argmax(target_acc > np.max(base_acc)))\n",
      "/tmp/ipykernel_25920/232864216.py:35: RuntimeWarning: divide by zero encountered in long_scalars\n",
      "  arch_results[dataset][model].append(np.argmax(base_acc) / np.argmax(target_acc > np.max(base_acc)))\n"
     ]
    }
   ],
   "source": [
    "path_results = '/home/alsch/Desktop/ML Reproducibillity Chellange/figure_2/4_architecture/temp'\n",
    "baseline_folder = 'baseline'\n",
    "target_folder = 'target'\n",
    "\n",
    "count = 0\n",
    "\n",
    "arch_results = {\n",
    "    'CIFAR10' : {},\n",
    "    'CIFAR100': {},\n",
    "    'CINIC10': {}\n",
    "}\n",
    "\n",
    "for file in os.listdir(os.path.join(path_results, baseline_folder)):\n",
    "    if file.endswith('.pickle'):\n",
    "        file_splitted = file.split('_')\n",
    "\n",
    "        dataset = file_splitted[1]\n",
    "        model = file_splitted[2]\n",
    "        seed = int(file_splitted[-1].split('.')[0])\n",
    "\n",
    "        file_splitted[0] = 'target'\n",
    "\n",
    "        target_file = '_'.join(file_splitted)\n",
    "        baseline_path = os.path.join(path_results, baseline_folder, file)\n",
    "        target_path = os.path.join(path_results, target_folder, target_file)\n",
    "\n",
    "        with open(baseline_path, 'rb') as f:\n",
    "            results = pickle.load(f)\n",
    "            base_acc = np.array(results['accuracy'])[:100]\n",
    "        with open(target_path, 'rb') as f:\n",
    "            results = pickle.load(f)\n",
    "            target_acc = np.array(results['accuracy'])\n",
    "\n",
    "        if model in arch_results[dataset].keys():\n",
    "            arch_results[dataset][model].append(np.argmax(base_acc) / np.argmax(target_acc > np.max(base_acc)))\n",
    "        else:\n",
    "            arch_results[dataset][model] = []\n",
    "            arch_results[dataset][model].append(np.argmax(base_acc) / np.argmax(target_acc > np.max(base_acc)))\n",
    "\n",
    "y = 1 - (1/3)\n",
    "for dataset in arch_results.keys():\n",
    "    for model in arch_results[dataset]:\n",
    "        globals()[dataset.lower()+'_results_x'].append(round(mean(arch_results[dataset][model]), 2))\n",
    "        globals()[dataset.lower()+'_results_y'].append(y)\n",
    "    y += 1/3"
   ],
   "metadata": {
    "collapsed": false
   }
  },
  {
   "cell_type": "markdown",
   "source": [
    "Get speedups for hyperparameter"
   ],
   "metadata": {
    "collapsed": false
   }
  },
  {
   "cell_type": "code",
   "execution_count": 7,
   "outputs": [
    {
     "name": "stderr",
     "output_type": "stream",
     "text": [
      "/tmp/ipykernel_25920/3005694039.py:18: RuntimeWarning: divide by zero encountered in long_scalars\n",
      "  speedup = baseline[dataset][seed][1] / np.argmax(acc > baseline[dataset][seed][0])\n"
     ]
    }
   ],
   "source": [
    "hyperparameter = '/home/alsch/Desktop/ML Reproducibillity Chellange/figure_2/5_hyperparameters/target'\n",
    "\n",
    "y_value = {\n",
    "    'CIFAR10' : -(1/3),\n",
    "    'CINIC10' : 0,\n",
    "    'CIFAR100': +(1/3)\n",
    "}\n",
    "\n",
    "\n",
    "for folder in os.listdir(hyperparameter):\n",
    "    for file in os.listdir(os.path.join(hyperparameter, folder)):\n",
    "        if file.endswith('.pickle'):\n",
    "            dataset = file.split('_')[1]\n",
    "            seed = int(file.split('_')[3])\n",
    "            with open(os.path.join(hyperparameter, folder, file), 'rb') as f:\n",
    "                results = pickle.load(f)\n",
    "                acc = np.array(results['accuracy'])\n",
    "                speedup = baseline[dataset][seed][1] / np.argmax(acc > baseline[dataset][seed][0])\n",
    "                speedup = round(speedup, 2)\n",
    "                globals()[dataset.lower()+'_results_x'].append(speedup if speedup != np.inf else 0)\n",
    "                globals()[dataset.lower()+'_results_y'].append(y_value[dataset])\n"
   ],
   "metadata": {
    "collapsed": false
   }
  },
  {
   "cell_type": "markdown",
   "source": [
    "Show the plot"
   ],
   "metadata": {
    "collapsed": false
   }
  },
  {
   "cell_type": "code",
   "execution_count": 24,
   "outputs": [],
   "source": [
    "fig, ax = plt.subplots(figsize=(20, 5))\n",
    "\n",
    "x = np.arange(0, 7.5, 0.1)\n",
    "\n",
    "for i in range(5):\n",
    "    if i % 2 == 0:\n",
    "        ax.fill_between(x, -0.5+i, 0.5+i, color='whitesmoke')\n",
    "\n",
    "plt.axvline(x=1, color='k', linestyle='dashed', linewidth=1)\n",
    "\n",
    "ax.scatter(cifar10_results_x, cifar10_results_y, label='CIFAR10', color='blue', alpha=0.5, edgecolors='None', s=150)\n",
    "ax.scatter(cifar100_results_x, cifar100_results_y, label='CIFAR100', color='orange', alpha=0.5, edgecolors='None', s=150)\n",
    "ax.scatter(cinic10_results_x, cinic10_results_y, label='CINIC10', color='green', alpha=0.5, edgecolors='None', s=150)\n",
    "\n",
    "ax.legend(fontsize=16).set_title(\"Dataset\", prop={'size': 18})\n",
    "\n",
    "ax.set_title('Speedup using RHO-Loss Selection', fontsize=20)\n",
    "\n",
    "ax.set_xlim((0, 6))\n",
    "ax.set_ylim((-0.5, 4.5))\n",
    "\n",
    "ax.set_yticks([0, 1, 2, 3, 4])\n",
    "ax.set_yticklabels([\"Hyperparameter transfer\", \"Architecture transfer\", \"No holdout set\", \"Small irreducible loss model\", \"Default\"], fontsize=10)\n",
    "ax.tick_params(axis='y', labelsize=14)\n",
    "ax.tick_params(axis='x', labelsize=14)\n",
    "\n",
    "ax.set_xticks([0, 1, 3, 6])\n",
    "ax.set_xticklabels([0, 'No speedup', '3x', '6x'])\n",
    "\n",
    "fig.savefig('figure_2.pdf', bbox_inches='tight')\n",
    "fig.show()"
   ],
   "metadata": {
    "collapsed": false
   }
  },
  {
   "cell_type": "markdown",
   "source": [],
   "metadata": {
    "collapsed": false
   }
  }
 ],
 "metadata": {
  "kernelspec": {
   "display_name": "Python 3",
   "language": "python",
   "name": "python3"
  },
  "language_info": {
   "codemirror_mode": {
    "name": "ipython",
    "version": 2
   },
   "file_extension": ".py",
   "mimetype": "text/x-python",
   "name": "python",
   "nbconvert_exporter": "python",
   "pygments_lexer": "ipython2",
   "version": "2.7.6"
  }
 },
 "nbformat": 4,
 "nbformat_minor": 0
}
